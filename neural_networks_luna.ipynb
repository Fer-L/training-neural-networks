{
  "nbformat": 4,
  "nbformat_minor": 0,
  "metadata": {
    "colab": {
      "name": "neural_networks_luna.ipynb",
      "provenance": [],
      "collapsed_sections": [],
      "authorship_tag": "ABX9TyP3Idb/7to75RPYhkY5m5sp",
      "include_colab_link": true
    },
    "kernelspec": {
      "name": "python3",
      "display_name": "Python 3"
    },
    "language_info": {
      "name": "python"
    }
  },
  "cells": [
    {
      "cell_type": "markdown",
      "metadata": {
        "id": "view-in-github",
        "colab_type": "text"
      },
      "source": [
        "<a href=\"https://colab.research.google.com/github/Fer-L/training-neural-networks/blob/main/neural_networks_luna.ipynb\" target=\"_parent\"><img src=\"https://colab.research.google.com/assets/colab-badge.svg\" alt=\"Open In Colab\"/></a>"
      ]
    },
    {
      "cell_type": "markdown",
      "source": [
        "## **Loading libraries**"
      ],
      "metadata": {
        "id": "upN7Z_AERLLl"
      }
    },
    {
      "cell_type": "code",
      "source": [
        "import pandas as pd\n",
        "from sklearn.model_selection import train_test_split\n",
        "from sklearn.preprocessing import MinMaxScaler\n",
        "from sklearn.neural_network import MLPClassifier\n",
        "from sklearn import metrics\n",
        "from google.colab import drive"
      ],
      "metadata": {
        "id": "-JMC3ZFpyrMi"
      },
      "execution_count": null,
      "outputs": []
    },
    {
      "cell_type": "code",
      "execution_count": null,
      "metadata": {
        "id": "hnQ_Lw3MyD1M"
      },
      "outputs": [],
      "source": [
        "df = pd.read_csv('emprego.csv')"
      ]
    },
    {
      "cell_type": "markdown",
      "source": [
        "## **Loading dataframe and data processing**"
      ],
      "metadata": {
        "id": "RLEKexRNRPXs"
      }
    },
    {
      "cell_type": "code",
      "source": [
        "df.head()"
      ],
      "metadata": {
        "colab": {
          "base_uri": "https://localhost:8080/",
          "height": 206
        },
        "id": "qSoZEdwdsKY7",
        "outputId": "cdb0d1de-7bc8-4170-d34c-5931f6374be8"
      },
      "execution_count": null,
      "outputs": [
        {
          "output_type": "execute_result",
          "data": {
            "text/html": [
              "\n",
              "  <div id=\"df-8ab880a6-4e63-43a3-a08b-cc432e84ddd2\">\n",
              "    <div class=\"colab-df-container\">\n",
              "      <div>\n",
              "<style scoped>\n",
              "    .dataframe tbody tr th:only-of-type {\n",
              "        vertical-align: middle;\n",
              "    }\n",
              "\n",
              "    .dataframe tbody tr th {\n",
              "        vertical-align: top;\n",
              "    }\n",
              "\n",
              "    .dataframe thead th {\n",
              "        text-align: right;\n",
              "    }\n",
              "</style>\n",
              "<table border=\"1\" class=\"dataframe\">\n",
              "  <thead>\n",
              "    <tr style=\"text-align: right;\">\n",
              "      <th></th>\n",
              "      <th>sl_no</th>\n",
              "      <th>gender</th>\n",
              "      <th>ssc_p</th>\n",
              "      <th>ssc_b</th>\n",
              "      <th>hsc_p</th>\n",
              "      <th>hsc_b</th>\n",
              "      <th>hsc_s</th>\n",
              "      <th>degree_p</th>\n",
              "      <th>degree_t</th>\n",
              "      <th>workex</th>\n",
              "      <th>etest_p</th>\n",
              "      <th>specialisation</th>\n",
              "      <th>mba_p</th>\n",
              "      <th>status</th>\n",
              "      <th>salary</th>\n",
              "    </tr>\n",
              "  </thead>\n",
              "  <tbody>\n",
              "    <tr>\n",
              "      <th>0</th>\n",
              "      <td>1</td>\n",
              "      <td>M</td>\n",
              "      <td>67.00</td>\n",
              "      <td>Others</td>\n",
              "      <td>91.00</td>\n",
              "      <td>Others</td>\n",
              "      <td>Commerce</td>\n",
              "      <td>58.00</td>\n",
              "      <td>Sci&amp;Tech</td>\n",
              "      <td>No</td>\n",
              "      <td>55.0</td>\n",
              "      <td>Mkt&amp;HR</td>\n",
              "      <td>58.80</td>\n",
              "      <td>Placed</td>\n",
              "      <td>270000.0</td>\n",
              "    </tr>\n",
              "    <tr>\n",
              "      <th>1</th>\n",
              "      <td>2</td>\n",
              "      <td>M</td>\n",
              "      <td>79.33</td>\n",
              "      <td>Central</td>\n",
              "      <td>78.33</td>\n",
              "      <td>Others</td>\n",
              "      <td>Science</td>\n",
              "      <td>77.48</td>\n",
              "      <td>Sci&amp;Tech</td>\n",
              "      <td>Yes</td>\n",
              "      <td>86.5</td>\n",
              "      <td>Mkt&amp;Fin</td>\n",
              "      <td>66.28</td>\n",
              "      <td>Placed</td>\n",
              "      <td>200000.0</td>\n",
              "    </tr>\n",
              "    <tr>\n",
              "      <th>2</th>\n",
              "      <td>3</td>\n",
              "      <td>M</td>\n",
              "      <td>65.00</td>\n",
              "      <td>Central</td>\n",
              "      <td>68.00</td>\n",
              "      <td>Central</td>\n",
              "      <td>Arts</td>\n",
              "      <td>64.00</td>\n",
              "      <td>Comm&amp;Mgmt</td>\n",
              "      <td>No</td>\n",
              "      <td>75.0</td>\n",
              "      <td>Mkt&amp;Fin</td>\n",
              "      <td>57.80</td>\n",
              "      <td>Placed</td>\n",
              "      <td>250000.0</td>\n",
              "    </tr>\n",
              "    <tr>\n",
              "      <th>3</th>\n",
              "      <td>4</td>\n",
              "      <td>M</td>\n",
              "      <td>56.00</td>\n",
              "      <td>Central</td>\n",
              "      <td>52.00</td>\n",
              "      <td>Central</td>\n",
              "      <td>Science</td>\n",
              "      <td>52.00</td>\n",
              "      <td>Sci&amp;Tech</td>\n",
              "      <td>No</td>\n",
              "      <td>66.0</td>\n",
              "      <td>Mkt&amp;HR</td>\n",
              "      <td>59.43</td>\n",
              "      <td>Not Placed</td>\n",
              "      <td>NaN</td>\n",
              "    </tr>\n",
              "    <tr>\n",
              "      <th>4</th>\n",
              "      <td>5</td>\n",
              "      <td>M</td>\n",
              "      <td>85.80</td>\n",
              "      <td>Central</td>\n",
              "      <td>73.60</td>\n",
              "      <td>Central</td>\n",
              "      <td>Commerce</td>\n",
              "      <td>73.30</td>\n",
              "      <td>Comm&amp;Mgmt</td>\n",
              "      <td>No</td>\n",
              "      <td>96.8</td>\n",
              "      <td>Mkt&amp;Fin</td>\n",
              "      <td>55.50</td>\n",
              "      <td>Placed</td>\n",
              "      <td>425000.0</td>\n",
              "    </tr>\n",
              "  </tbody>\n",
              "</table>\n",
              "</div>\n",
              "      <button class=\"colab-df-convert\" onclick=\"convertToInteractive('df-8ab880a6-4e63-43a3-a08b-cc432e84ddd2')\"\n",
              "              title=\"Convert this dataframe to an interactive table.\"\n",
              "              style=\"display:none;\">\n",
              "        \n",
              "  <svg xmlns=\"http://www.w3.org/2000/svg\" height=\"24px\"viewBox=\"0 0 24 24\"\n",
              "       width=\"24px\">\n",
              "    <path d=\"M0 0h24v24H0V0z\" fill=\"none\"/>\n",
              "    <path d=\"M18.56 5.44l.94 2.06.94-2.06 2.06-.94-2.06-.94-.94-2.06-.94 2.06-2.06.94zm-11 1L8.5 8.5l.94-2.06 2.06-.94-2.06-.94L8.5 2.5l-.94 2.06-2.06.94zm10 10l.94 2.06.94-2.06 2.06-.94-2.06-.94-.94-2.06-.94 2.06-2.06.94z\"/><path d=\"M17.41 7.96l-1.37-1.37c-.4-.4-.92-.59-1.43-.59-.52 0-1.04.2-1.43.59L10.3 9.45l-7.72 7.72c-.78.78-.78 2.05 0 2.83L4 21.41c.39.39.9.59 1.41.59.51 0 1.02-.2 1.41-.59l7.78-7.78 2.81-2.81c.8-.78.8-2.07 0-2.86zM5.41 20L4 18.59l7.72-7.72 1.47 1.35L5.41 20z\"/>\n",
              "  </svg>\n",
              "      </button>\n",
              "      \n",
              "  <style>\n",
              "    .colab-df-container {\n",
              "      display:flex;\n",
              "      flex-wrap:wrap;\n",
              "      gap: 12px;\n",
              "    }\n",
              "\n",
              "    .colab-df-convert {\n",
              "      background-color: #E8F0FE;\n",
              "      border: none;\n",
              "      border-radius: 50%;\n",
              "      cursor: pointer;\n",
              "      display: none;\n",
              "      fill: #1967D2;\n",
              "      height: 32px;\n",
              "      padding: 0 0 0 0;\n",
              "      width: 32px;\n",
              "    }\n",
              "\n",
              "    .colab-df-convert:hover {\n",
              "      background-color: #E2EBFA;\n",
              "      box-shadow: 0px 1px 2px rgba(60, 64, 67, 0.3), 0px 1px 3px 1px rgba(60, 64, 67, 0.15);\n",
              "      fill: #174EA6;\n",
              "    }\n",
              "\n",
              "    [theme=dark] .colab-df-convert {\n",
              "      background-color: #3B4455;\n",
              "      fill: #D2E3FC;\n",
              "    }\n",
              "\n",
              "    [theme=dark] .colab-df-convert:hover {\n",
              "      background-color: #434B5C;\n",
              "      box-shadow: 0px 1px 3px 1px rgba(0, 0, 0, 0.15);\n",
              "      filter: drop-shadow(0px 1px 2px rgba(0, 0, 0, 0.3));\n",
              "      fill: #FFFFFF;\n",
              "    }\n",
              "  </style>\n",
              "\n",
              "      <script>\n",
              "        const buttonEl =\n",
              "          document.querySelector('#df-8ab880a6-4e63-43a3-a08b-cc432e84ddd2 button.colab-df-convert');\n",
              "        buttonEl.style.display =\n",
              "          google.colab.kernel.accessAllowed ? 'block' : 'none';\n",
              "\n",
              "        async function convertToInteractive(key) {\n",
              "          const element = document.querySelector('#df-8ab880a6-4e63-43a3-a08b-cc432e84ddd2');\n",
              "          const dataTable =\n",
              "            await google.colab.kernel.invokeFunction('convertToInteractive',\n",
              "                                                     [key], {});\n",
              "          if (!dataTable) return;\n",
              "\n",
              "          const docLinkHtml = 'Like what you see? Visit the ' +\n",
              "            '<a target=\"_blank\" href=https://colab.research.google.com/notebooks/data_table.ipynb>data table notebook</a>'\n",
              "            + ' to learn more about interactive tables.';\n",
              "          element.innerHTML = '';\n",
              "          dataTable['output_type'] = 'display_data';\n",
              "          await google.colab.output.renderOutput(dataTable, element);\n",
              "          const docLink = document.createElement('div');\n",
              "          docLink.innerHTML = docLinkHtml;\n",
              "          element.appendChild(docLink);\n",
              "        }\n",
              "      </script>\n",
              "    </div>\n",
              "  </div>\n",
              "  "
            ],
            "text/plain": [
              "   sl_no gender  ssc_p    ssc_b  ...  specialisation  mba_p      status    salary\n",
              "0      1      M  67.00   Others  ...          Mkt&HR  58.80      Placed  270000.0\n",
              "1      2      M  79.33  Central  ...         Mkt&Fin  66.28      Placed  200000.0\n",
              "2      3      M  65.00  Central  ...         Mkt&Fin  57.80      Placed  250000.0\n",
              "3      4      M  56.00  Central  ...          Mkt&HR  59.43  Not Placed       NaN\n",
              "4      5      M  85.80  Central  ...         Mkt&Fin  55.50      Placed  425000.0\n",
              "\n",
              "[5 rows x 15 columns]"
            ]
          },
          "metadata": {},
          "execution_count": 4
        }
      ]
    },
    {
      "cell_type": "code",
      "source": [
        "X = df.iloc[:, [2, 4, 7, 9, 10]].replace('Yes', 1).replace('No', 0)\n",
        "y = df.iloc[:, [13]].replace('Placed', 1).replace('Not Placed', 0)"
      ],
      "metadata": {
        "id": "uhPj2KlCb1L0"
      },
      "execution_count": null,
      "outputs": []
    },
    {
      "cell_type": "code",
      "source": [
        "X_train, X_test, y_train, y_test = train_test_split(X, y)"
      ],
      "metadata": {
        "id": "TcLOs7Jwx8M2"
      },
      "execution_count": null,
      "outputs": []
    },
    {
      "cell_type": "code",
      "source": [
        "scaler = MinMaxScaler()\n",
        "scaler = scaler.fit(X_train)\n",
        "X_train = scaler.transform(X_train)\n",
        "X_test = scaler.transform(X_test)"
      ],
      "metadata": {
        "id": "Lu8azheNcUdk"
      },
      "execution_count": null,
      "outputs": []
    },
    {
      "cell_type": "markdown",
      "source": [
        "## **Model Training**"
      ],
      "metadata": {
        "id": "7NwDnmAYRrSN"
      }
    },
    {
      "cell_type": "code",
      "source": [
        "modelo = MLPClassifier(\n",
        "hidden_layer_sizes=(30),\n",
        "activation='relu',\n",
        "solver='adam',\n",
        "learning_rate='constant',\n",
        "learning_rate_init=0.001,\n",
        "max_iter=200,\n",
        "shuffle=True,\n",
        "random_state=27,\n",
        "verbose=True,\n",
        "validation_fraction=0.2)\n",
        "\n",
        "modelo.fit(X_train, y_train)"
      ],
      "metadata": {
        "colab": {
          "base_uri": "https://localhost:8080/"
        },
        "id": "yrVGfNj6tcrL",
        "outputId": "4d764c37-3ac3-445b-beea-cec25a59ae73"
      },
      "execution_count": null,
      "outputs": [
        {
          "output_type": "stream",
          "name": "stderr",
          "text": [
            "/usr/local/lib/python3.7/dist-packages/sklearn/neural_network/_multilayer_perceptron.py:1109: DataConversionWarning: A column-vector y was passed when a 1d array was expected. Please change the shape of y to (n_samples, ), for example using ravel().\n",
            "  y = column_or_1d(y, warn=True)\n"
          ]
        },
        {
          "output_type": "stream",
          "name": "stdout",
          "text": [
            "Iteration 1, loss = 0.59687883\n",
            "Iteration 2, loss = 0.59547238\n",
            "Iteration 3, loss = 0.59407542\n",
            "Iteration 4, loss = 0.59269434\n",
            "Iteration 5, loss = 0.59132481\n",
            "Iteration 6, loss = 0.58996378\n",
            "Iteration 7, loss = 0.58861838\n",
            "Iteration 8, loss = 0.58728578\n",
            "Iteration 9, loss = 0.58596953\n",
            "Iteration 10, loss = 0.58466696\n",
            "Iteration 11, loss = 0.58337178\n",
            "Iteration 12, loss = 0.58209040\n",
            "Iteration 13, loss = 0.58082167\n",
            "Iteration 14, loss = 0.57956825\n",
            "Iteration 15, loss = 0.57833202\n",
            "Iteration 16, loss = 0.57710803\n",
            "Iteration 17, loss = 0.57589385\n",
            "Iteration 18, loss = 0.57468840\n",
            "Iteration 19, loss = 0.57349586\n",
            "Iteration 20, loss = 0.57231008\n",
            "Iteration 21, loss = 0.57113053\n",
            "Iteration 22, loss = 0.56996145\n",
            "Iteration 23, loss = 0.56879804\n",
            "Iteration 24, loss = 0.56764584\n",
            "Iteration 25, loss = 0.56650546\n",
            "Iteration 26, loss = 0.56537428\n",
            "Iteration 27, loss = 0.56424983\n",
            "Iteration 28, loss = 0.56313377\n",
            "Iteration 29, loss = 0.56202505\n",
            "Iteration 30, loss = 0.56091653\n",
            "Iteration 31, loss = 0.55980883\n",
            "Iteration 32, loss = 0.55870297\n",
            "Iteration 33, loss = 0.55760240\n",
            "Iteration 34, loss = 0.55650187\n",
            "Iteration 35, loss = 0.55540088\n",
            "Iteration 36, loss = 0.55430424\n",
            "Iteration 37, loss = 0.55321030\n",
            "Iteration 38, loss = 0.55211524\n",
            "Iteration 39, loss = 0.55101557\n",
            "Iteration 40, loss = 0.54991409\n",
            "Iteration 41, loss = 0.54881207\n",
            "Iteration 42, loss = 0.54771002\n",
            "Iteration 43, loss = 0.54660563\n",
            "Iteration 44, loss = 0.54549999\n",
            "Iteration 45, loss = 0.54439314\n",
            "Iteration 46, loss = 0.54328204\n",
            "Iteration 47, loss = 0.54217098\n",
            "Iteration 48, loss = 0.54105560\n",
            "Iteration 49, loss = 0.53994213\n",
            "Iteration 50, loss = 0.53882822\n",
            "Iteration 51, loss = 0.53770922\n",
            "Iteration 52, loss = 0.53658808\n",
            "Iteration 53, loss = 0.53546696\n",
            "Iteration 54, loss = 0.53434533\n",
            "Iteration 55, loss = 0.53321969\n",
            "Iteration 56, loss = 0.53208310\n",
            "Iteration 57, loss = 0.53093968\n",
            "Iteration 58, loss = 0.52978796\n",
            "Iteration 59, loss = 0.52863527\n",
            "Iteration 60, loss = 0.52747819\n",
            "Iteration 61, loss = 0.52632572\n",
            "Iteration 62, loss = 0.52517852\n",
            "Iteration 63, loss = 0.52402539\n",
            "Iteration 64, loss = 0.52286968\n",
            "Iteration 65, loss = 0.52170511\n",
            "Iteration 66, loss = 0.52054391\n",
            "Iteration 67, loss = 0.51938977\n",
            "Iteration 68, loss = 0.51823836\n",
            "Iteration 69, loss = 0.51708102\n",
            "Iteration 70, loss = 0.51592905\n",
            "Iteration 71, loss = 0.51479251\n",
            "Iteration 72, loss = 0.51366357\n",
            "Iteration 73, loss = 0.51253322\n",
            "Iteration 74, loss = 0.51140301\n",
            "Iteration 75, loss = 0.51028020\n",
            "Iteration 76, loss = 0.50915842\n",
            "Iteration 77, loss = 0.50803817\n",
            "Iteration 78, loss = 0.50692785\n",
            "Iteration 79, loss = 0.50581498\n",
            "Iteration 80, loss = 0.50469410\n",
            "Iteration 81, loss = 0.50356962\n",
            "Iteration 82, loss = 0.50244629\n",
            "Iteration 83, loss = 0.50132238\n",
            "Iteration 84, loss = 0.50020287\n",
            "Iteration 85, loss = 0.49908333\n",
            "Iteration 86, loss = 0.49796264\n",
            "Iteration 87, loss = 0.49683944\n",
            "Iteration 88, loss = 0.49571651\n",
            "Iteration 89, loss = 0.49459368\n",
            "Iteration 90, loss = 0.49347309\n",
            "Iteration 91, loss = 0.49235206\n",
            "Iteration 92, loss = 0.49123216\n",
            "Iteration 93, loss = 0.49012099\n",
            "Iteration 94, loss = 0.48900846\n",
            "Iteration 95, loss = 0.48789698\n",
            "Iteration 96, loss = 0.48678577\n",
            "Iteration 97, loss = 0.48567608\n",
            "Iteration 98, loss = 0.48457064\n",
            "Iteration 99, loss = 0.48347264\n",
            "Iteration 100, loss = 0.48237258\n",
            "Iteration 101, loss = 0.48127252\n",
            "Iteration 102, loss = 0.48017905\n",
            "Iteration 103, loss = 0.47909286\n",
            "Iteration 104, loss = 0.47800871\n",
            "Iteration 105, loss = 0.47692637\n",
            "Iteration 106, loss = 0.47584612\n",
            "Iteration 107, loss = 0.47477050\n",
            "Iteration 108, loss = 0.47369862\n",
            "Iteration 109, loss = 0.47262933\n",
            "Iteration 110, loss = 0.47156391\n",
            "Iteration 111, loss = 0.47050244\n",
            "Iteration 112, loss = 0.46944048\n",
            "Iteration 113, loss = 0.46838347\n",
            "Iteration 114, loss = 0.46732745\n",
            "Iteration 115, loss = 0.46627284\n",
            "Iteration 116, loss = 0.46522435\n",
            "Iteration 117, loss = 0.46417614\n",
            "Iteration 118, loss = 0.46312883\n",
            "Iteration 119, loss = 0.46208292\n",
            "Iteration 120, loss = 0.46103947\n",
            "Iteration 121, loss = 0.45999743\n",
            "Iteration 122, loss = 0.45895584\n",
            "Iteration 123, loss = 0.45791574\n",
            "Iteration 124, loss = 0.45687644\n",
            "Iteration 125, loss = 0.45583918\n",
            "Iteration 126, loss = 0.45480849\n",
            "Iteration 127, loss = 0.45378067\n",
            "Iteration 128, loss = 0.45275572\n",
            "Iteration 129, loss = 0.45173379\n",
            "Iteration 130, loss = 0.45071310\n",
            "Iteration 131, loss = 0.44969371\n",
            "Iteration 132, loss = 0.44867631\n",
            "Iteration 133, loss = 0.44766044\n",
            "Iteration 134, loss = 0.44664714\n",
            "Iteration 135, loss = 0.44563585\n",
            "Iteration 136, loss = 0.44462643\n",
            "Iteration 137, loss = 0.44362040\n",
            "Iteration 138, loss = 0.44262199\n",
            "Iteration 139, loss = 0.44162583\n",
            "Iteration 140, loss = 0.44063249\n",
            "Iteration 141, loss = 0.43964335\n",
            "Iteration 142, loss = 0.43865862\n",
            "Iteration 143, loss = 0.43767673\n",
            "Iteration 144, loss = 0.43669743\n",
            "Iteration 145, loss = 0.43572045\n",
            "Iteration 146, loss = 0.43474540\n",
            "Iteration 147, loss = 0.43377254\n",
            "Iteration 148, loss = 0.43280079\n",
            "Iteration 149, loss = 0.43183103\n",
            "Iteration 150, loss = 0.43086237\n",
            "Iteration 151, loss = 0.42989436\n",
            "Iteration 152, loss = 0.42892829\n",
            "Iteration 153, loss = 0.42796429\n",
            "Iteration 154, loss = 0.42700080\n",
            "Iteration 155, loss = 0.42603841\n",
            "Iteration 156, loss = 0.42507715\n",
            "Iteration 157, loss = 0.42411598\n",
            "Iteration 158, loss = 0.42315697\n",
            "Iteration 159, loss = 0.42219888\n",
            "Iteration 160, loss = 0.42124618\n",
            "Iteration 161, loss = 0.42029616\n",
            "Iteration 162, loss = 0.41934354\n",
            "Iteration 163, loss = 0.41839177\n",
            "Iteration 164, loss = 0.41744255\n",
            "Iteration 165, loss = 0.41649620\n",
            "Iteration 166, loss = 0.41555614\n",
            "Iteration 167, loss = 0.41462021\n",
            "Iteration 168, loss = 0.41368662\n",
            "Iteration 169, loss = 0.41274410\n",
            "Iteration 170, loss = 0.41179783\n",
            "Iteration 171, loss = 0.41085246\n",
            "Iteration 172, loss = 0.40990484\n",
            "Iteration 173, loss = 0.40896285\n",
            "Iteration 174, loss = 0.40802735\n",
            "Iteration 175, loss = 0.40709495\n",
            "Iteration 176, loss = 0.40617213\n",
            "Iteration 177, loss = 0.40525515\n",
            "Iteration 178, loss = 0.40433712\n",
            "Iteration 179, loss = 0.40342194\n",
            "Iteration 180, loss = 0.40251111\n",
            "Iteration 181, loss = 0.40160296\n",
            "Iteration 182, loss = 0.40069815\n",
            "Iteration 183, loss = 0.39979602\n",
            "Iteration 184, loss = 0.39889718\n",
            "Iteration 185, loss = 0.39800250\n",
            "Iteration 186, loss = 0.39711114\n",
            "Iteration 187, loss = 0.39622221\n",
            "Iteration 188, loss = 0.39533332\n",
            "Iteration 189, loss = 0.39445228\n",
            "Iteration 190, loss = 0.39357434\n",
            "Iteration 191, loss = 0.39269988\n",
            "Iteration 192, loss = 0.39182865\n",
            "Iteration 193, loss = 0.39096116\n",
            "Iteration 194, loss = 0.39009637\n",
            "Iteration 195, loss = 0.38923471\n",
            "Iteration 196, loss = 0.38837630\n",
            "Iteration 197, loss = 0.38752178\n",
            "Iteration 198, loss = 0.38667111\n",
            "Iteration 199, loss = 0.38582394\n",
            "Iteration 200, loss = 0.38498013\n"
          ]
        },
        {
          "output_type": "stream",
          "name": "stderr",
          "text": [
            "/usr/local/lib/python3.7/dist-packages/sklearn/neural_network/_multilayer_perceptron.py:696: ConvergenceWarning: Stochastic Optimizer: Maximum iterations (200) reached and the optimization hasn't converged yet.\n",
            "  ConvergenceWarning,\n"
          ]
        },
        {
          "output_type": "execute_result",
          "data": {
            "text/plain": [
              "MLPClassifier(hidden_layer_sizes=30, random_state=27, validation_fraction=0.2,\n",
              "              verbose=True)"
            ]
          },
          "metadata": {},
          "execution_count": 15
        }
      ]
    },
    {
      "cell_type": "markdown",
      "source": [
        "## **Analyzing performance statistics**"
      ],
      "metadata": {
        "id": "q7FHXQfCTKMF"
      }
    },
    {
      "cell_type": "code",
      "source": [
        "pred_y = modelo.predict(X_test)\n",
        "print (\"Acurácia:\", metrics.accuracy_score(y_test, pred_y))"
      ],
      "metadata": {
        "colab": {
          "base_uri": "https://localhost:8080/"
        },
        "id": "QrChCReeqrbn",
        "outputId": "628745ec-2104-40ca-8d9a-3f36fb367be5"
      },
      "execution_count": null,
      "outputs": [
        {
          "output_type": "stream",
          "name": "stdout",
          "text": [
            "Acurácia: 0.8148148148148148\n"
          ]
        }
      ]
    },
    {
      "cell_type": "markdown",
      "source": [
        "## **Confusion matrix on training data**"
      ],
      "metadata": {
        "id": "3RhkS6EfTfYc"
      }
    },
    {
      "cell_type": "code",
      "source": [
        "from sklearn.metrics import classification_report,confusion_matrix\n",
        "\n",
        "predict_train = modelo.predict(X_train)\n",
        "predict_test = modelo.predict(X_test)\n",
        "\n",
        "print(confusion_matrix(y_train, predict_train))\n",
        "print(classification_report(y_train, predict_train))"
      ],
      "metadata": {
        "colab": {
          "base_uri": "https://localhost:8080/"
        },
        "id": "hlm4lXtaSQIV",
        "outputId": "05c14a84-5460-4410-d5b2-de47b78528d3"
      },
      "execution_count": null,
      "outputs": [
        {
          "output_type": "stream",
          "name": "stdout",
          "text": [
            "[[ 25  26]\n",
            " [  1 109]]\n",
            "              precision    recall  f1-score   support\n",
            "\n",
            "           0       0.96      0.49      0.65        51\n",
            "           1       0.81      0.99      0.89       110\n",
            "\n",
            "    accuracy                           0.83       161\n",
            "   macro avg       0.88      0.74      0.77       161\n",
            "weighted avg       0.86      0.83      0.81       161\n",
            "\n"
          ]
        }
      ]
    },
    {
      "cell_type": "markdown",
      "source": [
        "## **Confusion matrix on test data**"
      ],
      "metadata": {
        "id": "yxvfjQsWT98l"
      }
    },
    {
      "cell_type": "code",
      "source": [
        "print(confusion_matrix(y_test,predict_test))\n",
        "print(classification_report(y_test,predict_test))"
      ],
      "metadata": {
        "colab": {
          "base_uri": "https://localhost:8080/"
        },
        "id": "Sf6tYafNS521",
        "outputId": "08bc6651-b8fd-4200-93bc-e76a7d714ab3"
      },
      "execution_count": null,
      "outputs": [
        {
          "output_type": "stream",
          "name": "stdout",
          "text": [
            "[[ 6 10]\n",
            " [ 0 38]]\n",
            "              precision    recall  f1-score   support\n",
            "\n",
            "           0       1.00      0.38      0.55        16\n",
            "           1       0.79      1.00      0.88        38\n",
            "\n",
            "    accuracy                           0.81        54\n",
            "   macro avg       0.90      0.69      0.71        54\n",
            "weighted avg       0.85      0.81      0.78        54\n",
            "\n"
          ]
        }
      ]
    }
  ]
}